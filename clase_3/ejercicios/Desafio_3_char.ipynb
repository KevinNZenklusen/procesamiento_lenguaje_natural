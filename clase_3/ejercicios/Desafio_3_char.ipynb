{
  "cells": [
    {
      "cell_type": "markdown",
      "metadata": {
        "id": "g3yeJGnCYxuF"
      },
      "source": [
        "<img src=\"https://github.com/hernancontigiani/ceia_memorias_especializacion/raw/master/Figures/logoFIUBA.jpg\" width=\"500\" align=\"center\">\n",
        "\n",
        "\n",
        "# Procesamiento de lenguaje natural\n",
        "## Modelo de lenguaje con tokenización por caracteres"
      ]
    },
    {
      "cell_type": "markdown",
      "metadata": {
        "id": "Iv5PEwGzZA9-"
      },
      "source": [
        "### Consigna\n",
        "- Seleccionar un corpus de texto sobre el cual entrenar el modelo de lenguaje.\n",
        "- Realizar el pre-procesamiento adecuado para tokenizar el corpus, estructurar el dataset y separar entre datos de entrenamiento y validación.\n",
        "- Proponer arquitecturas de redes neuronales basadas en unidades recurrentes para implementar un modelo de lenguaje.\n",
        "- Con el o los modelos que consideren adecuados, generar nuevas secuencias a partir de secuencias de contexto con las estrategias de greedy search y beam search determístico y estocástico. En este último caso observar el efecto de la temperatura en la generación de secuencias.\n",
        "\n",
        "\n",
        "### Sugerencias\n",
        "- Durante el entrenamiento, guiarse por el descenso de la perplejidad en los datos de validación para finalizar el entrenamiento. Para ello se provee un callback.\n",
        "- Explorar utilizar SimpleRNN (celda de Elman), LSTM y GRU.\n",
        "- rmsprop es el optimizador recomendado para la buena convergencia. No obstante se pueden explorar otros.\n"
      ]
    },
    {
      "cell_type": "code",
      "execution_count": 2,
      "metadata": {
        "id": "Y-QdFbHZYj7C"
      },
      "outputs": [],
      "source": [
        "import random\n",
        "import io\n",
        "import pickle\n",
        "\n",
        "import numpy as np\n",
        "import pandas as pd\n",
        "import matplotlib.pyplot as plt\n",
        "from sklearn.model_selection import train_test_split\n",
        "\n",
        "from tensorflow import keras\n",
        "from tensorflow.keras import layers\n",
        "from keras.utils import to_categorical\n",
        "from keras.models import Sequential\n",
        "from keras.layers import Dense, LSTM, Embedding, Dropout\n",
        "from tensorflow.keras.losses import SparseCategoricalCrossentropy"
      ]
    },
    {
      "cell_type": "markdown",
      "metadata": {
        "id": "xTvXlEKQZdqx"
      },
      "source": [
        "### Datos\n",
        "Utilizaremos como dataset canciones de bandas de habla inglés."
      ]
    },
    {
      "cell_type": "code",
      "execution_count": 3,
      "metadata": {
        "id": "7amy6uUaBLVD"
      },
      "outputs": [],
      "source": [
        "# descargar de textos.info\n",
        "import urllib.request\n",
        "\n",
        "# Para leer y parsear el texto en HTML de wikipedia\n",
        "import bs4 as bs"
      ]
    },
    {
      "cell_type": "code",
      "execution_count": 4,
      "metadata": {
        "id": "6v_ickFwBJTy"
      },
      "outputs": [],
      "source": [
        "raw_html = urllib.request.urlopen('https://www.textos.info/oscar-wilde/el-retrato-de-dorian-gray/ebook')\n",
        "raw_html = raw_html.read()\n",
        "\n",
        "# Parsear artículo, 'lxml' es el parser a utilizar\n",
        "article_html = bs.BeautifulSoup(raw_html, \"html.parser\")\n",
        "\n",
        "# Encontrar todos los párrafos del HTML (bajo el tag <p>)\n",
        "# y tenerlos disponible como lista\n",
        "article_paragraphs = article_html.find_all('p')\n",
        "\n",
        "article_text = ''\n",
        "\n",
        "for para in article_paragraphs:\n",
        "    article_text += para.text + ' '\n",
        "\n",
        "# pasar todo el texto a minúscula\n",
        "article_text = article_text.lower()"
      ]
    },
    {
      "cell_type": "code",
      "execution_count": 5,
      "metadata": {
        "colab": {
          "base_uri": "https://localhost:8080/",
          "height": 127
        },
        "id": "WBE0sSYuB-E6",
        "outputId": "45818770-0397-44e7-c6bc-09a2e101807b"
      },
      "outputs": [
        {
          "output_type": "execute_result",
          "data": {
            "text/plain": [
              "' el artista es creador de belleza. revelar el arte y ocultar al artista es la meta del arte. el crítico es quien puede traducir de manera distinta o con nuevos \\r\\nmateriales su impresión de la belleza. la forma más elevada de la \\r\\ncrítica, y también la más rastrera, es una modalidad de autobiografía. quienes descubren significados ruines en cosas hermosas están \\r\\ncorrompidos sin ser elegantes, lo que es un defecto. quienes encuentran \\r\\nsignificados bellos en cosas hermosas son espíritus cultivados. para \\r\\nellos hay esperanza. son los elegidos, y en su caso las cosas hermosas sólo significan belleza. no existen libros morales o inmorales. los libros están bien o mal escritos. eso es todo. la aversión del siglo por el realismo es la rabia de calibán al verse la cara en el espejo. la aversión del siglo por el romanticismo es la rabia de calibán al no verse la cara en un espejo. la vida moral del hombre forma parte de los temas del artista, pero \\r\\nla moralidad del arte consiste en hacer un '"
            ],
            "application/vnd.google.colaboratory.intrinsic+json": {
              "type": "string"
            }
          },
          "metadata": {},
          "execution_count": 5
        }
      ],
      "source": [
        "# en article text se encuentra el texto de todo el libro\n",
        "article_text[:1000]"
      ]
    },
    {
      "cell_type": "markdown",
      "metadata": {
        "id": "cP1JdiOIKQWi"
      },
      "source": [
        "### Elegir el tamaño del contexto\n",
        "\n",
        "En este caso, como el modelo de lenguaje es por caracteres, todo un gran corpus\n",
        "de texto puede ser considerado un documento en sí mismo y el tamaño de contexto\n",
        "puede ser elegido con más libertad en comparación a un modelo de lenguaje tokenizado por palabras y dividido en documentos más acotados."
      ]
    },
    {
      "cell_type": "code",
      "execution_count": 6,
      "metadata": {
        "id": "wumBNwdjJM3j"
      },
      "outputs": [],
      "source": [
        "# seleccionamos el tamaño de contexto\n",
        "max_context_size = 100"
      ]
    },
    {
      "cell_type": "code",
      "execution_count": 7,
      "metadata": {
        "id": "m5FeTaGvbDbw"
      },
      "outputs": [],
      "source": [
        "# Usaremos las utilidades de procesamiento de textos y secuencias de Keras\n",
        "from tensorflow.keras.utils import pad_sequences # se utilizará para padding"
      ]
    },
    {
      "cell_type": "code",
      "execution_count": 8,
      "metadata": {
        "id": "573Cg5n7VhWw"
      },
      "outputs": [],
      "source": [
        "# en este caso el vocabulario es el conjunto único de caracteres que existe en todo el texto\n",
        "chars_vocab = set(article_text)"
      ]
    },
    {
      "cell_type": "code",
      "execution_count": 9,
      "metadata": {
        "colab": {
          "base_uri": "https://localhost:8080/"
        },
        "id": "VwTK6xgLJd8q",
        "outputId": "962980e8-d4fe-4a4b-f82b-355837ad5a11"
      },
      "outputs": [
        {
          "output_type": "execute_result",
          "data": {
            "text/plain": [
              "65"
            ]
          },
          "metadata": {},
          "execution_count": 9
        }
      ],
      "source": [
        "# la longitud de vocabulario de caracteres es:\n",
        "len(chars_vocab)"
      ]
    },
    {
      "cell_type": "code",
      "execution_count": 10,
      "metadata": {
        "id": "2W0AeQjXV1Ou"
      },
      "outputs": [],
      "source": [
        "# Construimos los dicionarios que asignan índices a caracteres y viceversa.\n",
        "# El diccionario `char2idx` servirá como tokenizador.\n",
        "char2idx = {k: v for v,k in enumerate(chars_vocab)}\n",
        "idx2char = {v: k for k,v in char2idx.items()}"
      ]
    },
    {
      "cell_type": "markdown",
      "metadata": {
        "id": "2oIUjVU0LB0r"
      },
      "source": [
        "###  Tokenizar"
      ]
    },
    {
      "cell_type": "code",
      "execution_count": 11,
      "metadata": {
        "id": "h07G3srdJppo"
      },
      "outputs": [],
      "source": [
        "# tokenizamos el texto completo\n",
        "tokenized_text = [char2idx[ch] for ch in article_text]"
      ]
    },
    {
      "cell_type": "code",
      "execution_count": 12,
      "metadata": {
        "colab": {
          "base_uri": "https://localhost:8080/"
        },
        "id": "PwGVSKOiJ5bj",
        "outputId": "72580a0f-4fd6-4937-fbb0-97ff7b3af6de"
      },
      "outputs": [
        {
          "output_type": "execute_result",
          "data": {
            "text/plain": [
              "[13,\n",
              " 43,\n",
              " 2,\n",
              " 13,\n",
              " 39,\n",
              " 59,\n",
              " 53,\n",
              " 40,\n",
              " 27,\n",
              " 53,\n",
              " 39,\n",
              " 13,\n",
              " 43,\n",
              " 27,\n",
              " 13,\n",
              " 32,\n",
              " 59,\n",
              " 43,\n",
              " 39,\n",
              " 12,\n",
              " 61,\n",
              " 59,\n",
              " 13,\n",
              " 12,\n",
              " 43,\n",
              " 13,\n",
              " 17,\n",
              " 43,\n",
              " 2,\n",
              " 2,\n",
              " 43,\n",
              " 46,\n",
              " 39,\n",
              " 62,\n",
              " 13,\n",
              " 59,\n",
              " 43,\n",
              " 16,\n",
              " 43,\n",
              " 2,\n",
              " 39,\n",
              " 59,\n",
              " 13,\n",
              " 43,\n",
              " 2,\n",
              " 13,\n",
              " 39,\n",
              " 59,\n",
              " 53,\n",
              " 43,\n",
              " 13,\n",
              " 35,\n",
              " 13,\n",
              " 61,\n",
              " 32,\n",
              " 24,\n",
              " 2,\n",
              " 53,\n",
              " 39,\n",
              " 59,\n",
              " 13,\n",
              " 39,\n",
              " 2,\n",
              " 13,\n",
              " 39,\n",
              " 59,\n",
              " 53,\n",
              " 40,\n",
              " 27,\n",
              " 53,\n",
              " 39,\n",
              " 13,\n",
              " 43,\n",
              " 27,\n",
              " 13,\n",
              " 2,\n",
              " 39,\n",
              " 13,\n",
              " 57,\n",
              " 43,\n",
              " 53,\n",
              " 39,\n",
              " 13,\n",
              " 12,\n",
              " 43,\n",
              " 2,\n",
              " 13,\n",
              " 39,\n",
              " 59,\n",
              " 53,\n",
              " 43,\n",
              " 62,\n",
              " 13,\n",
              " 43,\n",
              " 2,\n",
              " 13,\n",
              " 32,\n",
              " 59,\n",
              " 28,\n",
              " 53,\n",
              " 40,\n",
              " 32,\n",
              " 61,\n",
              " 13,\n",
              " 43,\n",
              " 27,\n",
              " 13,\n",
              " 33,\n",
              " 24,\n",
              " 40,\n",
              " 43,\n",
              " 18,\n",
              " 13,\n",
              " 49,\n",
              " 24,\n",
              " 43,\n",
              " 12,\n",
              " 43,\n",
              " 13,\n",
              " 53,\n",
              " 59,\n",
              " 39,\n",
              " 12,\n",
              " 24,\n",
              " 32,\n",
              " 40,\n",
              " 59,\n",
              " 13,\n",
              " 12,\n",
              " 43,\n",
              " 13,\n",
              " 57,\n",
              " 39,\n",
              " 18,\n",
              " 43,\n",
              " 59,\n",
              " 39,\n",
              " 13,\n",
              " 12,\n",
              " 40,\n",
              " 27,\n",
              " 53,\n",
              " 40,\n",
              " 18,\n",
              " 53,\n",
              " 39,\n",
              " 13,\n",
              " 61,\n",
              " 13,\n",
              " 32,\n",
              " 61,\n",
              " 18,\n",
              " 13,\n",
              " 18,\n",
              " 24,\n",
              " 43,\n",
              " 16,\n",
              " 61,\n",
              " 27,\n",
              " 13,\n",
              " 30,\n",
              " 56,\n",
              " 57,\n",
              " 39,\n",
              " 53,\n",
              " 43,\n",
              " 59,\n",
              " 40,\n",
              " 39,\n",
              " 2,\n",
              " 43,\n",
              " 27,\n",
              " 13,\n",
              " 27,\n",
              " 24,\n",
              " 13,\n",
              " 40,\n",
              " 57,\n",
              " 49,\n",
              " 59,\n",
              " 43,\n",
              " 27,\n",
              " 40,\n",
              " 29,\n",
              " 18,\n",
              " 13,\n",
              " 12,\n",
              " 43,\n",
              " 13,\n",
              " 2,\n",
              " 39,\n",
              " 13,\n",
              " 17,\n",
              " 43,\n",
              " 2,\n",
              " 2,\n",
              " 43,\n",
              " 46,\n",
              " 39,\n",
              " 62,\n",
              " 13,\n",
              " 2,\n",
              " 39,\n",
              " 13,\n",
              " 60,\n",
              " 61,\n",
              " 59,\n",
              " 57,\n",
              " 39,\n",
              " 13,\n",
              " 57,\n",
              " 22,\n",
              " 27,\n",
              " 13,\n",
              " 43,\n",
              " 2,\n",
              " 43,\n",
              " 16,\n",
              " 39,\n",
              " 12,\n",
              " 39,\n",
              " 13,\n",
              " 12,\n",
              " 43,\n",
              " 13,\n",
              " 2,\n",
              " 39,\n",
              " 13,\n",
              " 30,\n",
              " 56,\n",
              " 32,\n",
              " 59,\n",
              " 28,\n",
              " 53,\n",
              " 40,\n",
              " 32,\n",
              " 39,\n",
              " 26,\n",
              " 13,\n",
              " 35,\n",
              " 13,\n",
              " 53,\n",
              " 39,\n",
              " 57,\n",
              " 17,\n",
              " 40,\n",
              " 36,\n",
              " 18,\n",
              " 13,\n",
              " 2,\n",
              " 39,\n",
              " 13,\n",
              " 57,\n",
              " 22,\n",
              " 27,\n",
              " 13,\n",
              " 59,\n",
              " 39,\n",
              " 27,\n",
              " 53,\n",
              " 59,\n",
              " 43,\n",
              " 59,\n",
              " 39,\n",
              " 26,\n",
              " 13,\n",
              " 43,\n",
              " 27,\n",
              " 13,\n",
              " 24,\n",
              " 18,\n",
              " 39,\n",
              " 13,\n",
              " 57,\n",
              " 61,\n",
              " 12,\n",
              " 39,\n",
              " 2,\n",
              " 40,\n",
              " 12,\n",
              " 39,\n",
              " 12,\n",
              " 13,\n",
              " 12,\n",
              " 43,\n",
              " 13,\n",
              " 39,\n",
              " 24,\n",
              " 53,\n",
              " 61,\n",
              " 17,\n",
              " 40,\n",
              " 61,\n",
              " 38,\n",
              " 59,\n",
              " 39,\n",
              " 60,\n",
              " 28,\n",
              " 39,\n",
              " 62,\n",
              " 13,\n",
              " 33,\n",
              " 24,\n",
              " 40,\n",
              " 43,\n",
              " 18,\n",
              " 43,\n",
              " 27,\n",
              " 13,\n",
              " 12,\n",
              " 43,\n",
              " 27,\n",
              " 32,\n",
              " 24,\n",
              " 17,\n",
              " 59,\n",
              " 43,\n",
              " 18,\n",
              " 13,\n",
              " 27,\n",
              " 40,\n",
              " 38,\n",
              " 18,\n",
              " 40,\n",
              " 60,\n",
              " 40,\n",
              " 32,\n",
              " 39,\n",
              " 12,\n",
              " 61,\n",
              " 27,\n",
              " 13,\n",
              " 59,\n",
              " 24,\n",
              " 40,\n",
              " 18,\n",
              " 43,\n",
              " 27,\n",
              " 13,\n",
              " 43,\n",
              " 18,\n",
              " 13,\n",
              " 32,\n",
              " 61,\n",
              " 27,\n",
              " 39,\n",
              " 27,\n",
              " 13,\n",
              " 58,\n",
              " 43,\n",
              " 59,\n",
              " 57,\n",
              " 61,\n",
              " 27,\n",
              " 39,\n",
              " 27,\n",
              " 13,\n",
              " 43,\n",
              " 27,\n",
              " 53,\n",
              " 22,\n",
              " 18,\n",
              " 13,\n",
              " 30,\n",
              " 56,\n",
              " 32,\n",
              " 61,\n",
              " 59,\n",
              " 59,\n",
              " 61,\n",
              " 57,\n",
              " 49,\n",
              " 40,\n",
              " 12,\n",
              " 61,\n",
              " 27,\n",
              " 13,\n",
              " 27,\n",
              " 40,\n",
              " 18,\n",
              " 13,\n",
              " 27,\n",
              " 43,\n",
              " 59,\n",
              " 13,\n",
              " 43,\n",
              " 2,\n",
              " 43,\n",
              " 38,\n",
              " 39,\n",
              " 18,\n",
              " 53,\n",
              " 43,\n",
              " 27,\n",
              " 26,\n",
              " 13,\n",
              " 2,\n",
              " 61,\n",
              " 13,\n",
              " 33,\n",
              " 24,\n",
              " 43,\n",
              " 13,\n",
              " 43,\n",
              " 27,\n",
              " 13,\n",
              " 24,\n",
              " 18,\n",
              " 13,\n",
              " 12,\n",
              " 43,\n",
              " 60,\n",
              " 43,\n",
              " 32,\n",
              " 53,\n",
              " 61,\n",
              " 62,\n",
              " 13,\n",
              " 33,\n",
              " 24,\n",
              " 40,\n",
              " 43,\n",
              " 18,\n",
              " 43,\n",
              " 27,\n",
              " 13,\n",
              " 43,\n",
              " 18,\n",
              " 32,\n",
              " 24,\n",
              " 43,\n",
              " 18,\n",
              " 53,\n",
              " 59,\n",
              " 39,\n",
              " 18,\n",
              " 13,\n",
              " 30,\n",
              " 56,\n",
              " 27,\n",
              " 40,\n",
              " 38,\n",
              " 18,\n",
              " 40,\n",
              " 60,\n",
              " 40,\n",
              " 32,\n",
              " 39,\n",
              " 12,\n",
              " 61,\n",
              " 27,\n",
              " 13,\n",
              " 17,\n",
              " 43,\n",
              " 2,\n",
              " 2,\n",
              " 61,\n",
              " 27,\n",
              " 13,\n",
              " 43,\n",
              " 18,\n",
              " 13,\n",
              " 32,\n",
              " 61,\n",
              " 27,\n",
              " 39,\n",
              " 27,\n",
              " 13,\n",
              " 58,\n",
              " 43,\n",
              " 59,\n",
              " 57,\n",
              " 61,\n",
              " 27,\n",
              " 39,\n",
              " 27,\n",
              " 13,\n",
              " 27,\n",
              " 61,\n",
              " 18,\n",
              " 13,\n",
              " 43,\n",
              " 27,\n",
              " 49,\n",
              " 28,\n",
              " 59,\n",
              " 40,\n",
              " 53,\n",
              " 24,\n",
              " 27,\n",
              " 13,\n",
              " 32,\n",
              " 24,\n",
              " 2,\n",
              " 53,\n",
              " 40,\n",
              " 16,\n",
              " 39,\n",
              " 12,\n",
              " 61,\n",
              " 27,\n",
              " 62,\n",
              " 13,\n",
              " 49,\n",
              " 39,\n",
              " 59,\n",
              " 39,\n",
              " 13,\n",
              " 30,\n",
              " 56,\n",
              " 43,\n",
              " 2,\n",
              " 2,\n",
              " 61,\n",
              " 27,\n",
              " 13,\n",
              " 58,\n",
              " 39,\n",
              " 35,\n",
              " 13,\n",
              " 43,\n",
              " 27,\n",
              " 49,\n",
              " 43,\n",
              " 59,\n",
              " 39,\n",
              " 18,\n",
              " 46,\n",
              " 39,\n",
              " 62,\n",
              " 13,\n",
              " 27,\n",
              " 61,\n",
              " 18,\n",
              " 13,\n",
              " 2,\n",
              " 61,\n",
              " 27,\n",
              " 13,\n",
              " 43,\n",
              " 2,\n",
              " 43,\n",
              " 38,\n",
              " 40,\n",
              " 12,\n",
              " 61,\n",
              " 27,\n",
              " 26,\n",
              " 13,\n",
              " 35,\n",
              " 13,\n",
              " 43,\n",
              " 18,\n",
              " 13,\n",
              " 27,\n",
              " 24,\n",
              " 13,\n",
              " 32,\n",
              " 39,\n",
              " 27,\n",
              " 61,\n",
              " 13,\n",
              " 2,\n",
              " 39,\n",
              " 27,\n",
              " 13,\n",
              " 32,\n",
              " 61,\n",
              " 27,\n",
              " 39,\n",
              " 27,\n",
              " 13,\n",
              " 58,\n",
              " 43,\n",
              " 59,\n",
              " 57,\n",
              " 61,\n",
              " 27,\n",
              " 39,\n",
              " 27,\n",
              " 13,\n",
              " 27,\n",
              " 29,\n",
              " 2,\n",
              " 61,\n",
              " 13,\n",
              " 27,\n",
              " 40,\n",
              " 38,\n",
              " 18,\n",
              " 40,\n",
              " 60,\n",
              " 40,\n",
              " 32,\n",
              " 39,\n",
              " 18,\n",
              " 13,\n",
              " 17,\n",
              " 43,\n",
              " 2,\n",
              " 2,\n",
              " 43,\n",
              " 46,\n",
              " 39,\n",
              " 62,\n",
              " 13,\n",
              " 18,\n",
              " 61,\n",
              " 13,\n",
              " 43,\n",
              " 52,\n",
              " 40,\n",
              " 27,\n",
              " 53,\n",
              " 43,\n",
              " 18,\n",
              " 13,\n",
              " 2,\n",
              " 40,\n",
              " 17,\n",
              " 59,\n",
              " 61,\n",
              " 27,\n",
              " 13,\n",
              " 57,\n",
              " 61,\n",
              " 59,\n",
              " 39,\n",
              " 2,\n",
              " 43,\n",
              " 27,\n",
              " 13,\n",
              " 61,\n",
              " 13,\n",
              " 40,\n",
              " 18,\n",
              " 57,\n",
              " 61,\n",
              " 59,\n",
              " 39,\n",
              " 2,\n",
              " 43,\n",
              " 27,\n",
              " 62,\n",
              " 13,\n",
              " 2,\n",
              " 61,\n",
              " 27,\n",
              " 13,\n",
              " 2,\n",
              " 40,\n",
              " 17,\n",
              " 59,\n",
              " 61,\n",
              " 27,\n",
              " 13,\n",
              " 43,\n",
              " 27,\n",
              " 53,\n",
              " 22,\n",
              " 18,\n",
              " 13,\n",
              " 17,\n",
              " 40,\n",
              " 43,\n",
              " 18,\n",
              " 13,\n",
              " 61,\n",
              " 13,\n",
              " 57,\n",
              " 39,\n",
              " 2,\n",
              " 13,\n",
              " 43,\n",
              " 27,\n",
              " 32,\n",
              " 59,\n",
              " 40,\n",
              " 53,\n",
              " 61,\n",
              " 27,\n",
              " 62,\n",
              " 13,\n",
              " 43,\n",
              " 27,\n",
              " 61,\n",
              " 13,\n",
              " 43,\n",
              " 27,\n",
              " 13,\n",
              " 53,\n",
              " 61,\n",
              " 12,\n",
              " 61,\n",
              " 62,\n",
              " 13,\n",
              " 2,\n",
              " 39,\n",
              " 13,\n",
              " 39,\n",
              " 16,\n",
              " 43,\n",
              " 59,\n",
              " 27,\n",
              " 40,\n",
              " 29,\n",
              " 18,\n",
              " 13,\n",
              " 12,\n",
              " 43,\n",
              " 2,\n",
              " 13,\n",
              " 27,\n",
              " 40,\n",
              " 38,\n",
              " 2,\n",
              " 61,\n",
              " 13,\n",
              " 49,\n",
              " 61,\n",
              " 59,\n",
              " 13,\n",
              " 43,\n",
              " 2,\n",
              " 13,\n",
              " 59,\n",
              " 43,\n",
              " 39,\n",
              " 2,\n",
              " 40,\n",
              " 27,\n",
              " 57,\n",
              " 61,\n",
              " 13,\n",
              " 43,\n",
              " 27,\n",
              " 13,\n",
              " 2,\n",
              " 39,\n",
              " 13,\n",
              " 59,\n",
              " 39,\n",
              " 17,\n",
              " 40,\n",
              " 39,\n",
              " 13,\n",
              " 12,\n",
              " 43,\n",
              " 13,\n",
              " 32,\n",
              " 39,\n",
              " 2,\n",
              " 40,\n",
              " 17,\n",
              " 22,\n",
              " 18,\n",
              " 13,\n",
              " 39,\n",
              " 2,\n",
              " 13,\n",
              " 16,\n",
              " 43,\n",
              " 59,\n",
              " 27,\n",
              " 43,\n",
              " 13,\n",
              " 2,\n",
              " 39,\n",
              " 13,\n",
              " 32,\n",
              " 39,\n",
              " 59,\n",
              " 39,\n",
              " 13,\n",
              " 43,\n",
              " 18,\n",
              " 13,\n",
              " 43,\n",
              " 2,\n",
              " 13,\n",
              " 43,\n",
              " 27,\n",
              " 49,\n",
              " 43,\n",
              " 31,\n",
              " 61,\n",
              " 62,\n",
              " 13,\n",
              " 2,\n",
              " 39,\n",
              " 13,\n",
              " 39,\n",
              " 16,\n",
              " 43,\n",
              " 59,\n",
              " 27,\n",
              " 40,\n",
              " 29,\n",
              " 18,\n",
              " 13,\n",
              " 12,\n",
              " 43,\n",
              " 2,\n",
              " 13,\n",
              " 27,\n",
              " 40,\n",
              " 38,\n",
              " 2,\n",
              " 61,\n",
              " 13,\n",
              " 49,\n",
              " 61,\n",
              " 59,\n",
              " 13,\n",
              " 43,\n",
              " 2,\n",
              " 13,\n",
              " 59,\n",
              " 61,\n",
              " 57,\n",
              " 39,\n",
              " 18,\n",
              " 53,\n",
              " 40,\n",
              " 32,\n",
              " 40,\n",
              " 27,\n",
              " 57,\n",
              " 61,\n",
              " 13,\n",
              " 43,\n",
              " 27,\n",
              " 13,\n",
              " 2,\n",
              " 39,\n",
              " 13,\n",
              " 59,\n",
              " 39,\n",
              " 17,\n",
              " 40,\n",
              " 39,\n",
              " 13,\n",
              " 12,\n",
              " 43,\n",
              " 13,\n",
              " 32,\n",
              " 39,\n",
              " 2,\n",
              " 40,\n",
              " 17,\n",
              " 22,\n",
              " 18,\n",
              " 13,\n",
              " 39,\n",
              " 2,\n",
              " 13,\n",
              " 18,\n",
              " 61,\n",
              " 13,\n",
              " 16,\n",
              " 43,\n",
              " 59,\n",
              " 27,\n",
              " 43,\n",
              " 13,\n",
              " 2,\n",
              " 39,\n",
              " 13,\n",
              " 32,\n",
              " 39,\n",
              " 59,\n",
              " 39,\n",
              " 13,\n",
              " 43,\n",
              " 18,\n",
              " 13,\n",
              " 24,\n",
              " 18,\n",
              " 13,\n",
              " 43,\n",
              " 27,\n",
              " 49,\n",
              " 43,\n",
              " 31,\n",
              " 61,\n",
              " 62,\n",
              " 13,\n",
              " 2,\n",
              " 39,\n",
              " 13,\n",
              " 16,\n",
              " 40,\n",
              " 12,\n",
              " 39,\n",
              " 13,\n",
              " 57,\n",
              " 61,\n",
              " 59,\n",
              " 39,\n",
              " 2,\n",
              " 13,\n",
              " 12,\n",
              " 43,\n",
              " 2,\n",
              " 13,\n",
              " 58,\n",
              " 61,\n",
              " 57,\n",
              " 17,\n",
              " 59,\n",
              " 43,\n",
              " 13,\n",
              " 60,\n",
              " 61,\n",
              " 59,\n",
              " 57,\n",
              " 39,\n",
              " 13,\n",
              " 49,\n",
              " 39,\n",
              " 59,\n",
              " 53,\n",
              " 43,\n",
              " 13,\n",
              " 12,\n",
              " 43,\n",
              " 13,\n",
              " 2,\n",
              " 61,\n",
              " 27,\n",
              " 13,\n",
              " 53,\n",
              " 43,\n",
              " 57,\n",
              " 39,\n",
              " 27,\n",
              " 13,\n",
              " 12,\n",
              " 43,\n",
              " 2,\n",
              " 13,\n",
              " 39,\n",
              " 59,\n",
              " 53,\n",
              " 40,\n",
              " 27,\n",
              " 53,\n",
              " 39,\n",
              " 26,\n",
              " 13,\n",
              " 49,\n",
              " 43,\n",
              " 59,\n",
              " 61,\n",
              " 13,\n",
              " 30,\n",
              " 56,\n",
              " 2,\n",
              " 39,\n",
              " 13,\n",
              " 57,\n",
              " 61,\n",
              " 59,\n",
              " 39,\n",
              " 2,\n",
              " 40,\n",
              " 12,\n",
              " 39,\n",
              " 12,\n",
              " 13,\n",
              " 12,\n",
              " 43,\n",
              " 2,\n",
              " 13,\n",
              " 39,\n",
              " 59,\n",
              " 53,\n",
              " 43,\n",
              " 13,\n",
              " 32,\n",
              " 61,\n",
              " 18,\n",
              " 27,\n",
              " 40,\n",
              " 27,\n",
              " 53,\n",
              " 43,\n",
              " 13,\n",
              " 43,\n",
              " 18,\n",
              " 13,\n",
              " 58,\n",
              " 39,\n",
              " 32,\n",
              " 43,\n",
              " 59,\n",
              " 13,\n",
              " 24,\n",
              " 18,\n",
              " 13]"
            ]
          },
          "metadata": {},
          "execution_count": 12
        }
      ],
      "source": [
        "tokenized_text[:1000]"
      ]
    },
    {
      "cell_type": "markdown",
      "metadata": {
        "id": "pfpYcaypKcI9"
      },
      "source": [
        "### Organizando y estructurando el dataset"
      ]
    },
    {
      "cell_type": "code",
      "execution_count": 13,
      "metadata": {
        "id": "WSSmg9jtKP0T"
      },
      "outputs": [],
      "source": [
        "# separaremos el dataset entre entrenamiento y validación.\n",
        "# `p_val` será la proporción del corpus que se reservará para validación\n",
        "# `num_val` es la cantidad de secuencias de tamaño `max_context_size` que se usará en validación\n",
        "p_val = 0.1\n",
        "num_val = int(np.ceil(len(tokenized_text)*p_val/max_context_size))"
      ]
    },
    {
      "cell_type": "code",
      "execution_count": 14,
      "metadata": {
        "id": "b7dCpGrdKll0"
      },
      "outputs": [],
      "source": [
        "# separamos la porción de texto utilizada en entrenamiento de la de validación.\n",
        "train_text = tokenized_text[:-num_val*max_context_size]\n",
        "val_text = tokenized_text[-num_val*max_context_size:]"
      ]
    },
    {
      "cell_type": "code",
      "execution_count": 15,
      "metadata": {
        "id": "NmxQdxl8LRCg"
      },
      "outputs": [],
      "source": [
        "tokenized_sentences_val = [val_text[init*max_context_size:init*(max_context_size+1)] for init in range(num_val)]"
      ]
    },
    {
      "cell_type": "code",
      "execution_count": 16,
      "metadata": {
        "id": "_gyFT9koLqDm"
      },
      "outputs": [],
      "source": [
        "tokenized_sentences_train = [train_text[init:init+max_context_size] for init in range(len(train_text)-max_context_size+1)]"
      ]
    },
    {
      "cell_type": "code",
      "execution_count": 17,
      "metadata": {
        "id": "oVNqmmLRodT0"
      },
      "outputs": [],
      "source": [
        "X = np.array(tokenized_sentences_train[:-1])\n",
        "y = np.array(tokenized_sentences_train[1:])"
      ]
    },
    {
      "cell_type": "markdown",
      "metadata": {
        "id": "Vken7O4ETsAJ"
      },
      "source": [
        "Nótese que estamos estructurando el problema de aprendizaje como *many-to-many*:\n",
        "\n",
        "Entrada: secuencia de tokens [$x_0$, $x_1$, ..., $x_N$]\n",
        "\n",
        "Target: secuencia de tokens [$x_1$, $x_2$, ..., $x_{N+1}$]\n",
        "\n",
        "De manera que la red tiene que aprender que su salida deben ser los tokens desplazados en una posición y un nuevo token predicho (el N+1).\n",
        "\n",
        "La ventaja de estructurar el aprendizaje de esta manera es que para cada token de target se propaga una señal de gradiente por el grafo de cómputo recurrente, que es mejor que estructurar el problema como *many-to-one* en donde sólo una señal de gradiente se propaga."
      ]
    },
    {
      "cell_type": "markdown",
      "metadata": {
        "id": "l3iPTx-UJl6r"
      },
      "source": [
        "En este punto tenemos en la variable `tokenized_sentences` los versos tokenizados. Vamos a quedarnos con un conjunto de validación que utilizaremos para medir la calidad de la generación de secuencias con la métrica de Perplejidad."
      ]
    },
    {
      "cell_type": "code",
      "execution_count": 18,
      "metadata": {
        "colab": {
          "base_uri": "https://localhost:8080/"
        },
        "id": "KFAyA4zCWE-5",
        "outputId": "482bceb7-8d76-4e5d-988c-bcd2960a73c6"
      },
      "outputs": [
        {
          "output_type": "execute_result",
          "data": {
            "text/plain": [
              "(419061, 100)"
            ]
          },
          "metadata": {},
          "execution_count": 18
        }
      ],
      "source": [
        "X.shape"
      ]
    },
    {
      "cell_type": "code",
      "execution_count": 19,
      "metadata": {
        "colab": {
          "base_uri": "https://localhost:8080/"
        },
        "id": "qcKRl70HFTzG",
        "outputId": "d2e4730c-0e42-4372-b002-93306ac54275"
      },
      "outputs": [
        {
          "output_type": "execute_result",
          "data": {
            "text/plain": [
              "array([13, 43,  2, 13, 39, 59, 53, 40, 27, 53])"
            ]
          },
          "metadata": {},
          "execution_count": 19
        }
      ],
      "source": [
        "X[0,:10]"
      ]
    },
    {
      "cell_type": "code",
      "execution_count": 20,
      "metadata": {
        "colab": {
          "base_uri": "https://localhost:8080/"
        },
        "id": "TVpLCKSZFXZO",
        "outputId": "a03d1f98-724e-4967-a256-9d0627e07efb"
      },
      "outputs": [
        {
          "output_type": "execute_result",
          "data": {
            "text/plain": [
              "array([43,  2, 13, 39, 59, 53, 40, 27, 53, 39])"
            ]
          },
          "metadata": {},
          "execution_count": 20
        }
      ],
      "source": [
        "y[0,:10]"
      ]
    },
    {
      "cell_type": "code",
      "execution_count": 21,
      "metadata": {
        "id": "wOFCR-KqbW1N"
      },
      "outputs": [],
      "source": [
        "vocab_size = len(chars_vocab)"
      ]
    },
    {
      "cell_type": "markdown",
      "metadata": {
        "id": "tnnjdAQ5UAEJ"
      },
      "source": [
        "# Definiendo el modelo"
      ]
    },
    {
      "cell_type": "code",
      "execution_count": 22,
      "metadata": {
        "id": "rkMCZvmhrQz4"
      },
      "outputs": [],
      "source": [
        "from keras.layers import Input, TimeDistributed, CategoryEncoding, SimpleRNN, Dense\n",
        "from keras.models import Model, Sequential\n",
        "from tensorflow.keras.models import Sequential\n",
        "from tensorflow.keras.layers import TimeDistributed, CategoryEncoding, SimpleRNN, LSTM, GRU, Dense\n",
        "from tensorflow.keras.optimizers import RMSprop, Adam"
      ]
    },
    {
      "cell_type": "markdown",
      "metadata": {
        "id": "wgz7VKwTUbj6"
      },
      "source": [
        "El modelo que se propone como ejemplo consume los índices de los tokens y los transforma en vectores OHE (en este caso no entrenamos una capa de embedding para caracteres). Esa transformación se logra combinando las capas `CategoryEncoding` que transforma a índices a vectores OHE y `TimeDistributed` que aplica la capa a lo largo de la dimensión \"temporal\" de la secuencia."
      ]
    },
    {
      "cell_type": "code",
      "execution_count": 23,
      "metadata": {
        "id": "Zd2OkfQYs2Q7"
      },
      "outputs": [],
      "source": [
        "def create_model(cell_type='SimpleRNN', vocab_size=100, embedding_dim=200, dropout_rate=0.1, optimizer='rmsprop'):\n",
        "    model = Sequential()\n",
        "    model.add(TimeDistributed(CategoryEncoding(num_tokens=vocab_size, output_mode=\"one_hot\"), input_shape=(None, 1)))\n",
        "\n",
        "    if cell_type == 'SimpleRNN':\n",
        "        model.add(SimpleRNN(embedding_dim, return_sequences=True, dropout=dropout_rate, recurrent_dropout=dropout_rate))\n",
        "    elif cell_type == 'LSTM':\n",
        "        model.add(LSTM(embedding_dim, return_sequences=True, dropout=dropout_rate, recurrent_dropout=dropout_rate))\n",
        "    elif cell_type == 'GRU':\n",
        "        model.add(GRU(embedding_dim, return_sequences=True, dropout=dropout_rate, recurrent_dropout=dropout_rate))\n",
        "    else:\n",
        "        raise ValueError(\"cell_type must be 'SimpleRNN', 'LSTM', or 'GRU'\")\n",
        "\n",
        "    model.add(Dense(vocab_size, activation='softmax'))\n",
        "\n",
        "    if optimizer == 'rmsprop':\n",
        "        opt = RMSprop()\n",
        "    elif optimizer == 'adam':\n",
        "        opt = Adam()\n",
        "    else:\n",
        "        raise ValueError(\"optimizer must be 'rmsprop' or 'adam'\")\n",
        "\n",
        "    model.compile(loss='sparse_categorical_crossentropy', optimizer=opt)\n",
        "\n",
        "    return model"
      ]
    },
    {
      "cell_type": "code",
      "execution_count": 24,
      "metadata": {
        "colab": {
          "base_uri": "https://localhost:8080/",
          "height": 281
        },
        "id": "L7IrJsncuej3",
        "outputId": "6d4c9d8a-43d0-4b36-be6a-a1da2535e383"
      },
      "outputs": [
        {
          "output_type": "stream",
          "name": "stderr",
          "text": [
            "/usr/local/lib/python3.10/dist-packages/keras/src/layers/core/wrapper.py:27: UserWarning: Do not pass an `input_shape`/`input_dim` argument to a layer. When using Sequential models, prefer using an `Input(shape)` object as the first layer in the model instead.\n",
            "  super().__init__(**kwargs)\n"
          ]
        },
        {
          "output_type": "display_data",
          "data": {
            "text/plain": [
              "\u001b[1mModel: \"sequential\"\u001b[0m\n"
            ],
            "text/html": [
              "<pre style=\"white-space:pre;overflow-x:auto;line-height:normal;font-family:Menlo,'DejaVu Sans Mono',consolas,'Courier New',monospace\"><span style=\"font-weight: bold\">Model: \"sequential\"</span>\n",
              "</pre>\n"
            ]
          },
          "metadata": {}
        },
        {
          "output_type": "display_data",
          "data": {
            "text/plain": [
              "┏━━━━━━━━━━━━━━━━━━━━━━━━━━━━━━━━━━━━━━┳━━━━━━━━━━━━━━━━━━━━━━━━━━━━━┳━━━━━━━━━━━━━━━━━┓\n",
              "┃\u001b[1m \u001b[0m\u001b[1mLayer (type)                        \u001b[0m\u001b[1m \u001b[0m┃\u001b[1m \u001b[0m\u001b[1mOutput Shape               \u001b[0m\u001b[1m \u001b[0m┃\u001b[1m \u001b[0m\u001b[1m        Param #\u001b[0m\u001b[1m \u001b[0m┃\n",
              "┡━━━━━━━━━━━━━━━━━━━━━━━━━━━━━━━━━━━━━━╇━━━━━━━━━━━━━━━━━━━━━━━━━━━━━╇━━━━━━━━━━━━━━━━━┩\n",
              "│ time_distributed (\u001b[38;5;33mTimeDistributed\u001b[0m)   │ (\u001b[38;5;45mNone\u001b[0m, \u001b[38;5;45mNone\u001b[0m, \u001b[38;5;34m65\u001b[0m)            │               \u001b[38;5;34m0\u001b[0m │\n",
              "├──────────────────────────────────────┼─────────────────────────────┼─────────────────┤\n",
              "│ simple_rnn (\u001b[38;5;33mSimpleRNN\u001b[0m)               │ (\u001b[38;5;45mNone\u001b[0m, \u001b[38;5;45mNone\u001b[0m, \u001b[38;5;34m200\u001b[0m)           │          \u001b[38;5;34m53,200\u001b[0m │\n",
              "├──────────────────────────────────────┼─────────────────────────────┼─────────────────┤\n",
              "│ dense (\u001b[38;5;33mDense\u001b[0m)                        │ (\u001b[38;5;45mNone\u001b[0m, \u001b[38;5;45mNone\u001b[0m, \u001b[38;5;34m65\u001b[0m)            │          \u001b[38;5;34m13,065\u001b[0m │\n",
              "└──────────────────────────────────────┴─────────────────────────────┴─────────────────┘\n"
            ],
            "text/html": [
              "<pre style=\"white-space:pre;overflow-x:auto;line-height:normal;font-family:Menlo,'DejaVu Sans Mono',consolas,'Courier New',monospace\">┏━━━━━━━━━━━━━━━━━━━━━━━━━━━━━━━━━━━━━━┳━━━━━━━━━━━━━━━━━━━━━━━━━━━━━┳━━━━━━━━━━━━━━━━━┓\n",
              "┃<span style=\"font-weight: bold\"> Layer (type)                         </span>┃<span style=\"font-weight: bold\"> Output Shape                </span>┃<span style=\"font-weight: bold\">         Param # </span>┃\n",
              "┡━━━━━━━━━━━━━━━━━━━━━━━━━━━━━━━━━━━━━━╇━━━━━━━━━━━━━━━━━━━━━━━━━━━━━╇━━━━━━━━━━━━━━━━━┩\n",
              "│ time_distributed (<span style=\"color: #0087ff; text-decoration-color: #0087ff\">TimeDistributed</span>)   │ (<span style=\"color: #00d7ff; text-decoration-color: #00d7ff\">None</span>, <span style=\"color: #00d7ff; text-decoration-color: #00d7ff\">None</span>, <span style=\"color: #00af00; text-decoration-color: #00af00\">65</span>)            │               <span style=\"color: #00af00; text-decoration-color: #00af00\">0</span> │\n",
              "├──────────────────────────────────────┼─────────────────────────────┼─────────────────┤\n",
              "│ simple_rnn (<span style=\"color: #0087ff; text-decoration-color: #0087ff\">SimpleRNN</span>)               │ (<span style=\"color: #00d7ff; text-decoration-color: #00d7ff\">None</span>, <span style=\"color: #00d7ff; text-decoration-color: #00d7ff\">None</span>, <span style=\"color: #00af00; text-decoration-color: #00af00\">200</span>)           │          <span style=\"color: #00af00; text-decoration-color: #00af00\">53,200</span> │\n",
              "├──────────────────────────────────────┼─────────────────────────────┼─────────────────┤\n",
              "│ dense (<span style=\"color: #0087ff; text-decoration-color: #0087ff\">Dense</span>)                        │ (<span style=\"color: #00d7ff; text-decoration-color: #00d7ff\">None</span>, <span style=\"color: #00d7ff; text-decoration-color: #00d7ff\">None</span>, <span style=\"color: #00af00; text-decoration-color: #00af00\">65</span>)            │          <span style=\"color: #00af00; text-decoration-color: #00af00\">13,065</span> │\n",
              "└──────────────────────────────────────┴─────────────────────────────┴─────────────────┘\n",
              "</pre>\n"
            ]
          },
          "metadata": {}
        },
        {
          "output_type": "display_data",
          "data": {
            "text/plain": [
              "\u001b[1m Total params: \u001b[0m\u001b[38;5;34m66,265\u001b[0m (258.85 KB)\n"
            ],
            "text/html": [
              "<pre style=\"white-space:pre;overflow-x:auto;line-height:normal;font-family:Menlo,'DejaVu Sans Mono',consolas,'Courier New',monospace\"><span style=\"font-weight: bold\"> Total params: </span><span style=\"color: #00af00; text-decoration-color: #00af00\">66,265</span> (258.85 KB)\n",
              "</pre>\n"
            ]
          },
          "metadata": {}
        },
        {
          "output_type": "display_data",
          "data": {
            "text/plain": [
              "\u001b[1m Trainable params: \u001b[0m\u001b[38;5;34m66,265\u001b[0m (258.85 KB)\n"
            ],
            "text/html": [
              "<pre style=\"white-space:pre;overflow-x:auto;line-height:normal;font-family:Menlo,'DejaVu Sans Mono',consolas,'Courier New',monospace\"><span style=\"font-weight: bold\"> Trainable params: </span><span style=\"color: #00af00; text-decoration-color: #00af00\">66,265</span> (258.85 KB)\n",
              "</pre>\n"
            ]
          },
          "metadata": {}
        },
        {
          "output_type": "display_data",
          "data": {
            "text/plain": [
              "\u001b[1m Non-trainable params: \u001b[0m\u001b[38;5;34m0\u001b[0m (0.00 B)\n"
            ],
            "text/html": [
              "<pre style=\"white-space:pre;overflow-x:auto;line-height:normal;font-family:Menlo,'DejaVu Sans Mono',consolas,'Courier New',monospace\"><span style=\"font-weight: bold\"> Non-trainable params: </span><span style=\"color: #00af00; text-decoration-color: #00af00\">0</span> (0.00 B)\n",
              "</pre>\n"
            ]
          },
          "metadata": {}
        }
      ],
      "source": [
        "model_simple_rnn = create_model(cell_type='SimpleRNN', vocab_size=vocab_size, embedding_dim=200, dropout_rate=0.1, optimizer='rmsprop')\n",
        "model_simple_rnn.summary()"
      ]
    },
    {
      "cell_type": "code",
      "execution_count": 25,
      "metadata": {
        "colab": {
          "base_uri": "https://localhost:8080/",
          "height": 225
        },
        "id": "pf3hiED9vKw_",
        "outputId": "0702878f-1155-44af-b7cd-9dfe2814471c"
      },
      "outputs": [
        {
          "output_type": "display_data",
          "data": {
            "text/plain": [
              "\u001b[1mModel: \"sequential_1\"\u001b[0m\n"
            ],
            "text/html": [
              "<pre style=\"white-space:pre;overflow-x:auto;line-height:normal;font-family:Menlo,'DejaVu Sans Mono',consolas,'Courier New',monospace\"><span style=\"font-weight: bold\">Model: \"sequential_1\"</span>\n",
              "</pre>\n"
            ]
          },
          "metadata": {}
        },
        {
          "output_type": "display_data",
          "data": {
            "text/plain": [
              "┏━━━━━━━━━━━━━━━━━━━━━━━━━━━━━━━━━━━━━━┳━━━━━━━━━━━━━━━━━━━━━━━━━━━━━┳━━━━━━━━━━━━━━━━━┓\n",
              "┃\u001b[1m \u001b[0m\u001b[1mLayer (type)                        \u001b[0m\u001b[1m \u001b[0m┃\u001b[1m \u001b[0m\u001b[1mOutput Shape               \u001b[0m\u001b[1m \u001b[0m┃\u001b[1m \u001b[0m\u001b[1m        Param #\u001b[0m\u001b[1m \u001b[0m┃\n",
              "┡━━━━━━━━━━━━━━━━━━━━━━━━━━━━━━━━━━━━━━╇━━━━━━━━━━━━━━━━━━━━━━━━━━━━━╇━━━━━━━━━━━━━━━━━┩\n",
              "│ time_distributed_1 (\u001b[38;5;33mTimeDistributed\u001b[0m) │ (\u001b[38;5;45mNone\u001b[0m, \u001b[38;5;45mNone\u001b[0m, \u001b[38;5;34m65\u001b[0m)            │               \u001b[38;5;34m0\u001b[0m │\n",
              "├──────────────────────────────────────┼─────────────────────────────┼─────────────────┤\n",
              "│ lstm (\u001b[38;5;33mLSTM\u001b[0m)                          │ (\u001b[38;5;45mNone\u001b[0m, \u001b[38;5;45mNone\u001b[0m, \u001b[38;5;34m200\u001b[0m)           │         \u001b[38;5;34m212,800\u001b[0m │\n",
              "├──────────────────────────────────────┼─────────────────────────────┼─────────────────┤\n",
              "│ dense_1 (\u001b[38;5;33mDense\u001b[0m)                      │ (\u001b[38;5;45mNone\u001b[0m, \u001b[38;5;45mNone\u001b[0m, \u001b[38;5;34m65\u001b[0m)            │          \u001b[38;5;34m13,065\u001b[0m │\n",
              "└──────────────────────────────────────┴─────────────────────────────┴─────────────────┘\n"
            ],
            "text/html": [
              "<pre style=\"white-space:pre;overflow-x:auto;line-height:normal;font-family:Menlo,'DejaVu Sans Mono',consolas,'Courier New',monospace\">┏━━━━━━━━━━━━━━━━━━━━━━━━━━━━━━━━━━━━━━┳━━━━━━━━━━━━━━━━━━━━━━━━━━━━━┳━━━━━━━━━━━━━━━━━┓\n",
              "┃<span style=\"font-weight: bold\"> Layer (type)                         </span>┃<span style=\"font-weight: bold\"> Output Shape                </span>┃<span style=\"font-weight: bold\">         Param # </span>┃\n",
              "┡━━━━━━━━━━━━━━━━━━━━━━━━━━━━━━━━━━━━━━╇━━━━━━━━━━━━━━━━━━━━━━━━━━━━━╇━━━━━━━━━━━━━━━━━┩\n",
              "│ time_distributed_1 (<span style=\"color: #0087ff; text-decoration-color: #0087ff\">TimeDistributed</span>) │ (<span style=\"color: #00d7ff; text-decoration-color: #00d7ff\">None</span>, <span style=\"color: #00d7ff; text-decoration-color: #00d7ff\">None</span>, <span style=\"color: #00af00; text-decoration-color: #00af00\">65</span>)            │               <span style=\"color: #00af00; text-decoration-color: #00af00\">0</span> │\n",
              "├──────────────────────────────────────┼─────────────────────────────┼─────────────────┤\n",
              "│ lstm (<span style=\"color: #0087ff; text-decoration-color: #0087ff\">LSTM</span>)                          │ (<span style=\"color: #00d7ff; text-decoration-color: #00d7ff\">None</span>, <span style=\"color: #00d7ff; text-decoration-color: #00d7ff\">None</span>, <span style=\"color: #00af00; text-decoration-color: #00af00\">200</span>)           │         <span style=\"color: #00af00; text-decoration-color: #00af00\">212,800</span> │\n",
              "├──────────────────────────────────────┼─────────────────────────────┼─────────────────┤\n",
              "│ dense_1 (<span style=\"color: #0087ff; text-decoration-color: #0087ff\">Dense</span>)                      │ (<span style=\"color: #00d7ff; text-decoration-color: #00d7ff\">None</span>, <span style=\"color: #00d7ff; text-decoration-color: #00d7ff\">None</span>, <span style=\"color: #00af00; text-decoration-color: #00af00\">65</span>)            │          <span style=\"color: #00af00; text-decoration-color: #00af00\">13,065</span> │\n",
              "└──────────────────────────────────────┴─────────────────────────────┴─────────────────┘\n",
              "</pre>\n"
            ]
          },
          "metadata": {}
        },
        {
          "output_type": "display_data",
          "data": {
            "text/plain": [
              "\u001b[1m Total params: \u001b[0m\u001b[38;5;34m225,865\u001b[0m (882.29 KB)\n"
            ],
            "text/html": [
              "<pre style=\"white-space:pre;overflow-x:auto;line-height:normal;font-family:Menlo,'DejaVu Sans Mono',consolas,'Courier New',monospace\"><span style=\"font-weight: bold\"> Total params: </span><span style=\"color: #00af00; text-decoration-color: #00af00\">225,865</span> (882.29 KB)\n",
              "</pre>\n"
            ]
          },
          "metadata": {}
        },
        {
          "output_type": "display_data",
          "data": {
            "text/plain": [
              "\u001b[1m Trainable params: \u001b[0m\u001b[38;5;34m225,865\u001b[0m (882.29 KB)\n"
            ],
            "text/html": [
              "<pre style=\"white-space:pre;overflow-x:auto;line-height:normal;font-family:Menlo,'DejaVu Sans Mono',consolas,'Courier New',monospace\"><span style=\"font-weight: bold\"> Trainable params: </span><span style=\"color: #00af00; text-decoration-color: #00af00\">225,865</span> (882.29 KB)\n",
              "</pre>\n"
            ]
          },
          "metadata": {}
        },
        {
          "output_type": "display_data",
          "data": {
            "text/plain": [
              "\u001b[1m Non-trainable params: \u001b[0m\u001b[38;5;34m0\u001b[0m (0.00 B)\n"
            ],
            "text/html": [
              "<pre style=\"white-space:pre;overflow-x:auto;line-height:normal;font-family:Menlo,'DejaVu Sans Mono',consolas,'Courier New',monospace\"><span style=\"font-weight: bold\"> Non-trainable params: </span><span style=\"color: #00af00; text-decoration-color: #00af00\">0</span> (0.00 B)\n",
              "</pre>\n"
            ]
          },
          "metadata": {}
        }
      ],
      "source": [
        "model_lstm = create_model(cell_type='LSTM', vocab_size=vocab_size, embedding_dim=200, dropout_rate=0.1, optimizer='rmsprop')\n",
        "model_lstm.summary()"
      ]
    },
    {
      "cell_type": "code",
      "execution_count": 26,
      "metadata": {
        "colab": {
          "base_uri": "https://localhost:8080/",
          "height": 225
        },
        "id": "AiYoBzL3vRjZ",
        "outputId": "787082a2-1d29-4a32-ceac-bf542e74e414"
      },
      "outputs": [
        {
          "output_type": "display_data",
          "data": {
            "text/plain": [
              "\u001b[1mModel: \"sequential_2\"\u001b[0m\n"
            ],
            "text/html": [
              "<pre style=\"white-space:pre;overflow-x:auto;line-height:normal;font-family:Menlo,'DejaVu Sans Mono',consolas,'Courier New',monospace\"><span style=\"font-weight: bold\">Model: \"sequential_2\"</span>\n",
              "</pre>\n"
            ]
          },
          "metadata": {}
        },
        {
          "output_type": "display_data",
          "data": {
            "text/plain": [
              "┏━━━━━━━━━━━━━━━━━━━━━━━━━━━━━━━━━━━━━━┳━━━━━━━━━━━━━━━━━━━━━━━━━━━━━┳━━━━━━━━━━━━━━━━━┓\n",
              "┃\u001b[1m \u001b[0m\u001b[1mLayer (type)                        \u001b[0m\u001b[1m \u001b[0m┃\u001b[1m \u001b[0m\u001b[1mOutput Shape               \u001b[0m\u001b[1m \u001b[0m┃\u001b[1m \u001b[0m\u001b[1m        Param #\u001b[0m\u001b[1m \u001b[0m┃\n",
              "┡━━━━━━━━━━━━━━━━━━━━━━━━━━━━━━━━━━━━━━╇━━━━━━━━━━━━━━━━━━━━━━━━━━━━━╇━━━━━━━━━━━━━━━━━┩\n",
              "│ time_distributed_2 (\u001b[38;5;33mTimeDistributed\u001b[0m) │ (\u001b[38;5;45mNone\u001b[0m, \u001b[38;5;45mNone\u001b[0m, \u001b[38;5;34m65\u001b[0m)            │               \u001b[38;5;34m0\u001b[0m │\n",
              "├──────────────────────────────────────┼─────────────────────────────┼─────────────────┤\n",
              "│ gru (\u001b[38;5;33mGRU\u001b[0m)                            │ (\u001b[38;5;45mNone\u001b[0m, \u001b[38;5;45mNone\u001b[0m, \u001b[38;5;34m200\u001b[0m)           │         \u001b[38;5;34m160,200\u001b[0m │\n",
              "├──────────────────────────────────────┼─────────────────────────────┼─────────────────┤\n",
              "│ dense_2 (\u001b[38;5;33mDense\u001b[0m)                      │ (\u001b[38;5;45mNone\u001b[0m, \u001b[38;5;45mNone\u001b[0m, \u001b[38;5;34m65\u001b[0m)            │          \u001b[38;5;34m13,065\u001b[0m │\n",
              "└──────────────────────────────────────┴─────────────────────────────┴─────────────────┘\n"
            ],
            "text/html": [
              "<pre style=\"white-space:pre;overflow-x:auto;line-height:normal;font-family:Menlo,'DejaVu Sans Mono',consolas,'Courier New',monospace\">┏━━━━━━━━━━━━━━━━━━━━━━━━━━━━━━━━━━━━━━┳━━━━━━━━━━━━━━━━━━━━━━━━━━━━━┳━━━━━━━━━━━━━━━━━┓\n",
              "┃<span style=\"font-weight: bold\"> Layer (type)                         </span>┃<span style=\"font-weight: bold\"> Output Shape                </span>┃<span style=\"font-weight: bold\">         Param # </span>┃\n",
              "┡━━━━━━━━━━━━━━━━━━━━━━━━━━━━━━━━━━━━━━╇━━━━━━━━━━━━━━━━━━━━━━━━━━━━━╇━━━━━━━━━━━━━━━━━┩\n",
              "│ time_distributed_2 (<span style=\"color: #0087ff; text-decoration-color: #0087ff\">TimeDistributed</span>) │ (<span style=\"color: #00d7ff; text-decoration-color: #00d7ff\">None</span>, <span style=\"color: #00d7ff; text-decoration-color: #00d7ff\">None</span>, <span style=\"color: #00af00; text-decoration-color: #00af00\">65</span>)            │               <span style=\"color: #00af00; text-decoration-color: #00af00\">0</span> │\n",
              "├──────────────────────────────────────┼─────────────────────────────┼─────────────────┤\n",
              "│ gru (<span style=\"color: #0087ff; text-decoration-color: #0087ff\">GRU</span>)                            │ (<span style=\"color: #00d7ff; text-decoration-color: #00d7ff\">None</span>, <span style=\"color: #00d7ff; text-decoration-color: #00d7ff\">None</span>, <span style=\"color: #00af00; text-decoration-color: #00af00\">200</span>)           │         <span style=\"color: #00af00; text-decoration-color: #00af00\">160,200</span> │\n",
              "├──────────────────────────────────────┼─────────────────────────────┼─────────────────┤\n",
              "│ dense_2 (<span style=\"color: #0087ff; text-decoration-color: #0087ff\">Dense</span>)                      │ (<span style=\"color: #00d7ff; text-decoration-color: #00d7ff\">None</span>, <span style=\"color: #00d7ff; text-decoration-color: #00d7ff\">None</span>, <span style=\"color: #00af00; text-decoration-color: #00af00\">65</span>)            │          <span style=\"color: #00af00; text-decoration-color: #00af00\">13,065</span> │\n",
              "└──────────────────────────────────────┴─────────────────────────────┴─────────────────┘\n",
              "</pre>\n"
            ]
          },
          "metadata": {}
        },
        {
          "output_type": "display_data",
          "data": {
            "text/plain": [
              "\u001b[1m Total params: \u001b[0m\u001b[38;5;34m173,265\u001b[0m (676.82 KB)\n"
            ],
            "text/html": [
              "<pre style=\"white-space:pre;overflow-x:auto;line-height:normal;font-family:Menlo,'DejaVu Sans Mono',consolas,'Courier New',monospace\"><span style=\"font-weight: bold\"> Total params: </span><span style=\"color: #00af00; text-decoration-color: #00af00\">173,265</span> (676.82 KB)\n",
              "</pre>\n"
            ]
          },
          "metadata": {}
        },
        {
          "output_type": "display_data",
          "data": {
            "text/plain": [
              "\u001b[1m Trainable params: \u001b[0m\u001b[38;5;34m173,265\u001b[0m (676.82 KB)\n"
            ],
            "text/html": [
              "<pre style=\"white-space:pre;overflow-x:auto;line-height:normal;font-family:Menlo,'DejaVu Sans Mono',consolas,'Courier New',monospace\"><span style=\"font-weight: bold\"> Trainable params: </span><span style=\"color: #00af00; text-decoration-color: #00af00\">173,265</span> (676.82 KB)\n",
              "</pre>\n"
            ]
          },
          "metadata": {}
        },
        {
          "output_type": "display_data",
          "data": {
            "text/plain": [
              "\u001b[1m Non-trainable params: \u001b[0m\u001b[38;5;34m0\u001b[0m (0.00 B)\n"
            ],
            "text/html": [
              "<pre style=\"white-space:pre;overflow-x:auto;line-height:normal;font-family:Menlo,'DejaVu Sans Mono',consolas,'Courier New',monospace\"><span style=\"font-weight: bold\"> Non-trainable params: </span><span style=\"color: #00af00; text-decoration-color: #00af00\">0</span> (0.00 B)\n",
              "</pre>\n"
            ]
          },
          "metadata": {}
        }
      ],
      "source": [
        "model_gru = create_model(cell_type='GRU', vocab_size=vocab_size, embedding_dim=200, dropout_rate=0.1, optimizer='rmsprop')\n",
        "model_gru.summary()"
      ]
    },
    {
      "cell_type": "markdown",
      "metadata": {
        "id": "GmJWNyxQwfCE"
      },
      "source": [
        "\n",
        "### Definir el modelo"
      ]
    },
    {
      "cell_type": "markdown",
      "metadata": {
        "id": "YWK3z85sQfUe"
      },
      "source": [
        "Dado que por el momento no hay implementaciones adecuadas de la perplejidad que puedan operar en tiempo de entrenamiento, armaremos un Callback *ad-hoc* que la calcule en cada epoch.\n",
        "\n",
        "**Nota**: un Callback es una rutina gatillada por algún evento, son muy útiles para relevar datos en diferentes momentos del desarrollo del modelo. En este caso queremos hacer un cálculo cada vez que termina una epoch de entrenamiento."
      ]
    },
    {
      "cell_type": "code",
      "execution_count": 27,
      "metadata": {
        "id": "zUHX3r5JD-MG"
      },
      "outputs": [],
      "source": [
        "class PplCallback(keras.callbacks.Callback):\n",
        "\n",
        "    '''\n",
        "    Este callback es una solución ad-hoc para calcular al final de cada epoch de\n",
        "    entrenamiento la métrica de Perplejidad sobre un conjunto de datos de validación.\n",
        "    La perplejidad es una métrica cuantitativa para evaluar la calidad de la generación de secuencias.\n",
        "    Además implementa la finalización del entrenamiento (Early Stopping)\n",
        "    si la perplejidad no mejora después de `patience` epochs.\n",
        "    '''\n",
        "\n",
        "    def __init__(self, val_data, history_ppl,patience=5, model_name=\"my_model.keras\"):\n",
        "      # El callback lo inicializamos con secuencias de validación sobre las cuales\n",
        "      # mediremos la perplejidad\n",
        "      self.val_data = val_data\n",
        "\n",
        "      self.target = []\n",
        "      self.padded = []\n",
        "\n",
        "      count = 0\n",
        "      self.info = []\n",
        "      self.min_score = np.inf\n",
        "      self.patience_counter = 0\n",
        "      self.patience = patience\n",
        "      self.model_name = model_name\n",
        "      self.history_ppl = history_ppl\n",
        "\n",
        "      # nos movemos en todas las secuencias de los datos de validación\n",
        "      for seq in self.val_data:\n",
        "\n",
        "        len_seq = len(seq)\n",
        "        # armamos todas las subsecuencias\n",
        "        subseq = [seq[:i] for i in range(1,len_seq)]\n",
        "        self.target.extend([seq[i] for i in range(1,len_seq)])\n",
        "\n",
        "        if len(subseq)!=0:\n",
        "\n",
        "          self.padded.append(pad_sequences(subseq, maxlen=max_context_size, padding='pre'))\n",
        "\n",
        "          self.info.append((count,count+len_seq))\n",
        "          count += len_seq\n",
        "\n",
        "      self.padded = np.vstack(self.padded)\n",
        "\n",
        "\n",
        "    def on_epoch_end(self, epoch, logs=None):\n",
        "\n",
        "        # en `scores` iremos guardando la perplejidad de cada secuencia\n",
        "        scores = []\n",
        "\n",
        "        predictions = self.model.predict(self.padded,verbose=0)\n",
        "\n",
        "        # para cada secuencia de validación\n",
        "        for start,end in self.info:\n",
        "\n",
        "          # en `probs` iremos guardando las probabilidades de los términos target\n",
        "          probs = [predictions[idx_seq,-1,idx_vocab] for idx_seq, idx_vocab in zip(range(start,end),self.target[start:end])]\n",
        "\n",
        "          # calculamos la perplejidad por medio de logaritmos\n",
        "          scores.append(np.exp(-np.sum(np.log(probs))/(end-start)))\n",
        "\n",
        "        # promediamos todos los scores e imprimimos el valor promedio\n",
        "        current_score = np.mean(scores)\n",
        "        self.history_ppl.append(current_score)\n",
        "        print(f'\\n mean perplexity: {current_score} \\n')\n",
        "\n",
        "        # chequeamos si tenemos que detener el entrenamiento\n",
        "        if current_score < self.min_score:\n",
        "          self.min_score = current_score\n",
        "          self.model.save(self.model_name)\n",
        "          print(\"Saved new model!\")\n",
        "          self.patience_counter = 0\n",
        "        else:\n",
        "          self.patience_counter += 1\n",
        "          if self.patience_counter == self.patience:\n",
        "            print(\"Stopping training...\")\n",
        "            self.model.stop_training = True\n"
      ]
    },
    {
      "cell_type": "markdown",
      "metadata": {
        "id": "8HBZIwR0gruA"
      },
      "source": [
        "### Entrenamiento"
      ]
    },
    {
      "cell_type": "code",
      "execution_count": 28,
      "metadata": {
        "id": "oQq1PHDkxDvN"
      },
      "outputs": [],
      "source": [
        "# fiteamos, nótese el agregado del callback con su inicialización. El batch_size lo podemos seleccionar a mano\n",
        "# en general, lo mejor es escoger el batch más grande posible que minimice el tiempo de cada época.\n",
        "# En la variable `history_ppl` se guardarán los valores de perplejidad para cada época.\n",
        "#history_ppl1 = []\n",
        "#hist1 = model_simple_rnn.fit(X, y, epochs=10, callbacks=[PplCallback(tokenized_sentences_val,history_ppl=history_ppl1,model_name=\"model_simple_rnn.keras\")], batch_size=512)"
      ]
    },
    {
      "cell_type": "code",
      "execution_count": null,
      "metadata": {
        "colab": {
          "base_uri": "https://localhost:8080/"
        },
        "id": "45A6_kYNDfUI",
        "outputId": "79d3d16b-eb38-4014-f915-17936d29aabb"
      },
      "outputs": [
        {
          "output_type": "stream",
          "name": "stdout",
          "text": [
            "Epoch 1/10\n",
            "\u001b[1m819/819\u001b[0m \u001b[32m━━━━━━━━━━━━━━━━━━━━\u001b[0m\u001b[37m\u001b[0m \u001b[1m0s\u001b[0m 2s/step - loss: 2.8126\n",
            " mean perplexity: 9.005608495834931 \n",
            "\n",
            "Saved new model!\n",
            "\u001b[1m819/819\u001b[0m \u001b[32m━━━━━━━━━━━━━━━━━━━━\u001b[0m\u001b[37m\u001b[0m \u001b[1m2095s\u001b[0m 3s/step - loss: 2.8122\n",
            "Epoch 2/10\n",
            "\u001b[1m819/819\u001b[0m \u001b[32m━━━━━━━━━━━━━━━━━━━━\u001b[0m\u001b[37m\u001b[0m \u001b[1m0s\u001b[0m 2s/step - loss: 2.2292"
          ]
        }
      ],
      "source": [
        "# fiteamos, nótese el agregado del callback con su inicialización. El batch_size lo podemos seleccionar a mano\n",
        "# en general, lo mejor es escoger el batch más grande posible que minimice el tiempo de cada época.\n",
        "# En la variable `history_ppl` se guardarán los valores de perplejidad para cada época.\n",
        "history_ppl2 = []\n",
        "hist2 = model_lstm.fit(X, y, epochs=10, callbacks=[PplCallback(tokenized_sentences_val,history_ppl=history_ppl2,model_name=\"model_lstm.keras\")], batch_size=512)"
      ]
    },
    {
      "cell_type": "code",
      "execution_count": null,
      "metadata": {
        "id": "ouC5Wy6MDpRc"
      },
      "outputs": [],
      "source": [
        "# fiteamos, nótese el agregado del callback con su inicialización. El batch_size lo podemos seleccionar a mano\n",
        "# en general, lo mejor es escoger el batch más grande posible que minimice el tiempo de cada época.\n",
        "# En la variable `history_ppl` se guardarán los valores de perplejidad para cada época.\n",
        "#history_ppl3 = []\n",
        "#hist3 = model_gru.fit(X, y, epochs=10, callbacks=[PplCallback(tokenized_sentences_val,history_ppl=history_ppl3,model_name=\"model_gru.keras\")], batch_size=512)"
      ]
    },
    {
      "cell_type": "code",
      "execution_count": null,
      "metadata": {
        "id": "K30JHB3Dv-mx"
      },
      "outputs": [],
      "source": [
        "#import matplotlib.pyplot as plt\n",
        "#import seaborn as sns\n",
        "\n",
        "# Entrenamiento\n",
        "#epoch_count = range(1, len(history_ppl1) + 1)\n",
        "#sns.lineplot(x=epoch_count,  y=history_ppl1)\n",
        "#plt.show()"
      ]
    },
    {
      "cell_type": "code",
      "execution_count": null,
      "metadata": {
        "id": "RnUE0pr8KeCK"
      },
      "outputs": [],
      "source": [
        "import matplotlib.pyplot as plt\n",
        "import seaborn as sns\n",
        "\n",
        "# Entrenamiento\n",
        "epoch_count = range(1, len(history_ppl2) + 1)\n",
        "sns.lineplot(x=epoch_count,  y=history_ppl2)\n",
        "plt.show()"
      ]
    },
    {
      "cell_type": "code",
      "execution_count": null,
      "metadata": {
        "id": "O-GkST6QKesT"
      },
      "outputs": [],
      "source": [
        "import matplotlib.pyplot as plt\n",
        "import seaborn as sns\n",
        "\n",
        "# Entrenamiento\n",
        "#epoch_count = range(1, len(history_ppl3) + 1)\n",
        "#sns.lineplot(x=epoch_count,  y=history_ppl3)\n",
        "#plt.show()"
      ]
    },
    {
      "cell_type": "code",
      "execution_count": null,
      "metadata": {
        "id": "Rhy5hZN38qfO"
      },
      "outputs": [],
      "source": [
        "# Cargamos el mejor modelo guardado del entrenamiento para hacer inferencia\n",
        "#model1 = keras.models.load_model('model_simple_rnn.keras')"
      ]
    },
    {
      "cell_type": "code",
      "execution_count": null,
      "metadata": {
        "id": "G_-L4WytKrFZ"
      },
      "outputs": [],
      "source": [
        "# Cargamos el mejor modelo guardado del entrenamiento para hacer inferencia\n",
        "model2 = keras.models.load_model('model_lstm.keras')"
      ]
    },
    {
      "cell_type": "code",
      "execution_count": null,
      "metadata": {
        "id": "pgdbP6f_Krdo"
      },
      "outputs": [],
      "source": [
        "# Cargamos el mejor modelo guardado del entrenamiento para hacer inferencia\n",
        "#model3 = keras.models.load_model('model_gru.keras')"
      ]
    },
    {
      "cell_type": "markdown",
      "metadata": {
        "id": "KN6Fg_BsxJe6"
      },
      "source": [
        "\n",
        "### Predicción del próximo caracter"
      ]
    },
    {
      "cell_type": "code",
      "execution_count": null,
      "metadata": {
        "id": "IBvKHFPmzpy2"
      },
      "outputs": [],
      "source": [
        "# Se puede usar gradio para probar el modelo\n",
        "# Gradio es una herramienta muy útil para crear interfaces para ensayar modelos\n",
        "# https://gradio.app/\n",
        "\n",
        "!pip install -q gradio"
      ]
    },
    {
      "cell_type": "code",
      "execution_count": null,
      "metadata": {
        "id": "HNyBykvhzs7-"
      },
      "outputs": [],
      "source": [
        "import gradio as gr\n",
        "\n",
        "def model_response(human_text):\n",
        "\n",
        "    # Encodeamos\n",
        "    encoded = [char2idx[ch] for ch in human_text.lower() ]\n",
        "    # Si tienen distinto largo\n",
        "    encoded = pad_sequences([encoded], maxlen=max_context_size, padding='pre')\n",
        "\n",
        "    # Predicción softmax\n",
        "    y_hat = np.argmax(model2.predict(encoded)[0,-1,:])\n",
        "\n",
        "\n",
        "    # Debemos buscar en el vocabulario el caracter\n",
        "    # que corresopnde al indice (y_hat) predicho por le modelo\n",
        "    out_word = ''\n",
        "    out_word = idx2char[y_hat]\n",
        "\n",
        "    # Agrego la palabra a la frase predicha\n",
        "    return human_text + out_word\n",
        "\n",
        "iface = gr.Interface(\n",
        "    fn=model_response,\n",
        "    inputs=[\"textbox\"],\n",
        "    outputs=\"text\")\n",
        "\n",
        "iface.launch(debug=True)"
      ]
    },
    {
      "cell_type": "markdown",
      "metadata": {
        "id": "mCeMWWupxN1-"
      },
      "source": [
        "### Generación de secuencias"
      ]
    },
    {
      "cell_type": "code",
      "execution_count": null,
      "metadata": {
        "id": "bwbS_pfhxvB3"
      },
      "outputs": [],
      "source": [
        "def generate_seq(model, seed_text, max_length, n_words):\n",
        "    \"\"\"\n",
        "        Exec model sequence prediction\n",
        "\n",
        "        Args:\n",
        "            model (keras): modelo entrenado\n",
        "            seed_text (string): texto de entrada (input_seq)\n",
        "            max_length (int): máxima longitud de la sequencia de entrada\n",
        "            n_words (int): números de caracteres a agregar a la sequencia de entrada\n",
        "        returns:\n",
        "            output_text (string): sentencia con las \"n_words\" agregadas\n",
        "    \"\"\"\n",
        "    output_text = seed_text\n",
        "\t# generate a fixed number of words\n",
        "    for _ in range(n_words):\n",
        "\t\t# Encodeamos\n",
        "        encoded = [char2idx[ch] for ch in output_text.lower() ]\n",
        "\t\t# Si tienen distinto largo\n",
        "        encoded = pad_sequences([encoded], maxlen=max_length, padding='pre')\n",
        "\n",
        "\t\t# Predicción softmax\n",
        "        y_hat = np.argmax(model.predict(encoded,verbose=0)[0,-1,:])\n",
        "\t\t# Vamos concatenando las predicciones\n",
        "        out_word = ''\n",
        "\n",
        "        out_word = idx2char[y_hat]\n",
        "\n",
        "\t\t# Agrego las palabras a la frase predicha\n",
        "        output_text += out_word\n",
        "    return output_text"
      ]
    },
    {
      "cell_type": "code",
      "execution_count": null,
      "metadata": {
        "id": "JoFqRC5pxzqS"
      },
      "outputs": [],
      "source": [
        "#input_text='el artis'\n",
        "\n",
        "#generate_seq(model1, input_text, max_length=max_context_size, n_words=30)"
      ]
    },
    {
      "cell_type": "code",
      "execution_count": null,
      "metadata": {
        "id": "J9lM_TdIMyo5"
      },
      "outputs": [],
      "source": [
        "input_text='el artis'\n",
        "\n",
        "generate_seq(model2, input_text, max_length=max_context_size, n_words=30)"
      ]
    },
    {
      "cell_type": "code",
      "execution_count": null,
      "metadata": {
        "id": "s1Lp9LOzM0ma"
      },
      "outputs": [],
      "source": [
        "#input_text='el artis'\n",
        "\n",
        "#generate_seq(model3, input_text, max_length=max_context_size, n_words=30)"
      ]
    },
    {
      "cell_type": "markdown",
      "metadata": {
        "id": "drJ6xn5qW1Hl"
      },
      "source": [
        "###  Beam search y muestreo aleatorio"
      ]
    },
    {
      "cell_type": "code",
      "execution_count": null,
      "metadata": {
        "id": "_vovn9XZW1Hl"
      },
      "outputs": [],
      "source": [
        "# funcionalidades para hacer encoding y decoding\n",
        "\n",
        "def encode(text,max_length=max_context_size):\n",
        "\n",
        "    encoded = [char2idx[ch] for ch in text]\n",
        "    encoded = pad_sequences([encoded], maxlen=max_length, padding='pre')\n",
        "\n",
        "    return encoded\n",
        "\n",
        "def decode(seq):\n",
        "    return ''.join([idx2char[ch] for ch in seq])"
      ]
    },
    {
      "cell_type": "code",
      "execution_count": null,
      "metadata": {
        "id": "I_lZiQwkW1Hl"
      },
      "outputs": [],
      "source": [
        "from scipy.special import softmax\n",
        "\n",
        "# función que selecciona candidatos para el beam search\n",
        "def select_candidates(pred,num_beams,vocab_size,history_probs,history_tokens,temp,mode):\n",
        "\n",
        "  # colectar todas las probabilidades para la siguiente búsqueda\n",
        "  pred_large = []\n",
        "\n",
        "  for idx,pp in enumerate(pred):\n",
        "    pred_large.extend(np.log(pp+1E-10)+history_probs[idx])\n",
        "\n",
        "  pred_large = np.array(pred_large)\n",
        "\n",
        "  # criterio de selección\n",
        "  if mode == 'det':\n",
        "    idx_select = np.argsort(pred_large)[::-1][:num_beams] # beam search determinista\n",
        "  elif mode == 'sto':\n",
        "    idx_select = np.random.choice(np.arange(pred_large.shape[0]), num_beams, p=softmax(pred_large/temp)) # beam search con muestreo aleatorio\n",
        "  else:\n",
        "    raise ValueError(f'Wrong selection mode. {mode} was given. det and sto are supported.')\n",
        "\n",
        "  # traducir a índices de token en el vocabulario\n",
        "  new_history_tokens = np.concatenate((np.array(history_tokens)[idx_select//vocab_size],\n",
        "                        np.array([idx_select%vocab_size]).T),\n",
        "                      axis=1)\n",
        "\n",
        "  # devolver el producto de las probabilidades (log) y la secuencia de tokens seleccionados\n",
        "  return pred_large[idx_select.astype(int)], new_history_tokens.astype(int)\n",
        "\n",
        "\n",
        "def beam_search(model,num_beams,num_words,input,temp=1,mode='det'):\n",
        "\n",
        "    # first iteration\n",
        "\n",
        "    # encode\n",
        "    encoded = encode(input)\n",
        "\n",
        "    # first prediction\n",
        "    y_hat = model.predict(encoded,verbose=0)[0,-1,:]\n",
        "\n",
        "    # get vocabulary size\n",
        "    vocab_size = y_hat.shape[0]\n",
        "\n",
        "    # initialize history\n",
        "    history_probs = [0]*num_beams\n",
        "    history_tokens = [encoded[0]]*num_beams\n",
        "\n",
        "    # select num_beams candidates\n",
        "    history_probs, history_tokens = select_candidates([y_hat],\n",
        "                                        num_beams,\n",
        "                                        vocab_size,\n",
        "                                        history_probs,\n",
        "                                        history_tokens,\n",
        "                                        temp,\n",
        "                                        mode)\n",
        "\n",
        "    # beam search loop\n",
        "    for i in range(num_words-1):\n",
        "\n",
        "      preds = []\n",
        "\n",
        "      for hist in history_tokens:\n",
        "\n",
        "        # actualizar secuencia de tokens\n",
        "        input_update = np.array([hist[i+1:]]).copy()\n",
        "\n",
        "        # predicción\n",
        "        y_hat = model.predict(input_update,verbose=0)[0,-1,:]\n",
        "\n",
        "        preds.append(y_hat)\n",
        "\n",
        "      history_probs, history_tokens = select_candidates(preds,\n",
        "                                                        num_beams,\n",
        "                                                        vocab_size,\n",
        "                                                        history_probs,\n",
        "                                                        history_tokens,\n",
        "                                                        temp,\n",
        "                                                        mode)\n",
        "\n",
        "    return history_tokens"
      ]
    },
    {
      "cell_type": "code",
      "execution_count": null,
      "metadata": {
        "id": "GeLqAoOYW1Hm"
      },
      "outputs": [],
      "source": [
        "# predicción con beam search\n",
        "#salidas = beam_search(model1,num_beams=5,num_words=5,input=\"el artista\")\n",
        "#salidas[0]\n",
        "# veamos las salidas\n",
        "#decode(salidas[0])"
      ]
    },
    {
      "cell_type": "code",
      "execution_count": null,
      "metadata": {
        "id": "P8HQoLhw-NYg"
      },
      "outputs": [],
      "source": [
        "# predicción con beam search\n",
        "salidas = beam_search(model2,num_beams=10,num_words=20,input=\"el artista\")\n",
        "salidas[0]\n",
        "# veamos las salidas\n",
        "decode(salidas[0])"
      ]
    },
    {
      "cell_type": "code",
      "execution_count": null,
      "metadata": {
        "id": "2S3_I3S1W1Hm"
      },
      "outputs": [],
      "source": [
        "# predicción con beam search\n",
        "#salidas = beam_search(model3,num_beams=10,num_words=20,input=\"el artista\")\n",
        "#salidas[0]\n",
        "# veamos las salidas\n",
        "#decode(salidas[0])"
      ]
    },
    {
      "cell_type": "markdown",
      "metadata": {
        "id": "Q_LlqmtEW1Hn"
      },
      "source": []
    }
  ],
  "metadata": {
    "colab": {
      "provenance": []
    },
    "kernelspec": {
      "display_name": "Python 3",
      "name": "python3"
    },
    "language_info": {
      "codemirror_mode": {
        "name": "ipython",
        "version": 3
      },
      "file_extension": ".py",
      "mimetype": "text/x-python",
      "name": "python",
      "nbconvert_exporter": "python",
      "pygments_lexer": "ipython3",
      "version": "3.10.11"
    }
  },
  "nbformat": 4,
  "nbformat_minor": 0
}